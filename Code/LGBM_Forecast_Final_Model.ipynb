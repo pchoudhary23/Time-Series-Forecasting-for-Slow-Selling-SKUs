{
 "cells": [
  {
   "cell_type": "markdown",
   "id": "39e14caf",
   "metadata": {},
   "source": [
    "#### Import Libraries"
   ]
  },
  {
   "cell_type": "code",
   "execution_count": null,
   "id": "f5a6fac0",
   "metadata": {
    "scrolled": true
   },
   "outputs": [],
   "source": [
    "import sys\n",
    "!{sys.executable} -m pip install lightgbm\n",
    "!{sys.executable} -m pip install xgboost"
   ]
  },
  {
   "cell_type": "code",
   "execution_count": null,
   "id": "e8c516af",
   "metadata": {
    "colab": {
     "base_uri": "https://localhost:8080/"
    },
    "id": "e8c516af",
    "outputId": "ddbb8feb-3a3a-4936-966c-48a42599f444",
    "scrolled": false
   },
   "outputs": [],
   "source": [
    "pip install lightgbm\n",
    "pip install xgboost"
   ]
  },
  {
   "cell_type": "code",
   "execution_count": 101,
   "id": "0e43c37c",
   "metadata": {
    "id": "0e43c37c"
   },
   "outputs": [],
   "source": [
    "import pandas as pd\n",
    "import numpy as np\n",
    "import pickle\n",
    "%matplotlib inline\n",
    "\n",
    "pd.set_option('display.max_columns', 500)\n",
    "\n",
    "from matplotlib import pyplot as plt\n",
    "import time\n",
    "from sklearn.metrics import mean_squared_log_error\n",
    "from sklearn.ensemble import RandomForestRegressor\n",
    "from sklearn.model_selection import RandomizedSearchCV\n",
    "from lightgbm import LGBMRegressor\n",
    "from xgboost import XGBRegressor"
   ]
  },
  {
   "cell_type": "markdown",
   "id": "YuBXXXY0spFl",
   "metadata": {
    "id": "YuBXXXY0spFl"
   },
   "source": [
    "#### Processed and External Data"
   ]
  },
  {
   "cell_type": "code",
   "execution_count": 2,
   "id": "ryPXiHrJslAF",
   "metadata": {
    "id": "ryPXiHrJslAF"
   },
   "outputs": [],
   "source": [
    "sales = pd.read_csv('train_data_preprocessed.csv')\n",
    "validation = pd.read_csv('validation_data_preprocessed.csv')\n",
    "senti_index = pd.read_csv('consumer_sentiment_index.csv')\n",
    "house_price = pd.read_csv('median_house_price.csv')\n",
    "inflation_rate = pd.read_csv('inflation_rate_monthly.csv')"
   ]
  },
  {
   "cell_type": "code",
   "execution_count": 3,
   "id": "0ac457a6",
   "metadata": {
    "id": "0ac457a6"
   },
   "outputs": [
    {
     "name": "stdout",
     "output_type": "stream",
     "text": [
      "(879429, 16)\n",
      "(3773, 16)\n"
     ]
    }
   ],
   "source": [
    "## Adding Validation to Train Sales data\n",
    "sd = sales.sort_values(by=['encoded_sku_id','sales_date'])\n",
    "vd = validation.sort_values(by=['encoded_sku_id','sales_date'])\n",
    "vd = vd.drop(columns='forecasted units')\n",
    "print(sd.shape)\n",
    "print(vd.shape)\n",
    "\n",
    "sd = pd.concat([sd,vd], ignore_index= True)\n",
    "sd = sd.sort_values(by=['encoded_sku_id','sales_date']).reset_index(drop=True)"
   ]
  },
  {
   "cell_type": "code",
   "execution_count": 4,
   "id": "niRHJrgK3Xzv",
   "metadata": {
    "id": "niRHJrgK3Xzv"
   },
   "outputs": [],
   "source": [
    "## Creating Date derived features\n",
    "sd['date'] = pd.to_datetime(sd['sales_date'], infer_datetime_format= True)\n",
    "sd['base_date'] = pd.to_datetime( '2017-05-22',infer_datetime_format= True)\n",
    "sd['days_diff'] = (sd['date'] - sd['base_date']).dt.days\n",
    "\n",
    "sd['seq_week'] = sd['days_diff'] // 7\n",
    "sd['year'] = sd['date'].dt.year\n",
    "sd['day_of_week'] = sd['date'].dt.dayofweek\n",
    "\n",
    "sd = sd.drop(columns=[\"date\",\"base_date\",'days_diff'])"
   ]
  },
  {
   "cell_type": "markdown",
   "id": "7fc57e50",
   "metadata": {},
   "source": [
    "##### Imputing negative daily units"
   ]
  },
  {
   "cell_type": "code",
   "execution_count": 5,
   "id": "a7feb080",
   "metadata": {},
   "outputs": [],
   "source": [
    "\"\"\"\n",
    "Imputing Negative daily units value to mean of the week if weekly units are positive or to 0\n",
    "\"\"\"\n",
    "weekly_sales = sd.groupby(['encoded_sku_id','seq_week'])['daily_units'].mean()\n",
    "weekly_sales = weekly_sales.reset_index()\n",
    "weekly_sales = weekly_sales.rename(columns={\"daily_units\": \"mean_weekly_units\"})\n",
    "\n",
    "sd_ext = (pd.merge(sd,weekly_sales, on=['encoded_sku_id','seq_week']))\n",
    "\n",
    "\n",
    "daily_sales = []\n",
    "for i in range(0, len(sd)):\n",
    "    if sd_ext.loc[i,'daily_units']<0:\n",
    "        if sd_ext.loc[i,'mean_weekly_units']<0:\n",
    "            daily_sales.append(0)\n",
    "        else:\n",
    "            daily_sales.append(sd_ext.loc[i,'mean_weekly_units'])\n",
    "    else:\n",
    "        daily_sales.append(sd_ext.loc[i,'daily_units'])\n",
    "        \n",
    "\n",
    "sd_ext['daily_units'] = daily_sales"
   ]
  },
  {
   "cell_type": "markdown",
   "id": "32c4cf07",
   "metadata": {},
   "source": [
    "###### Adding external data variables"
   ]
  },
  {
   "cell_type": "code",
   "execution_count": 6,
   "id": "b1f03cce",
   "metadata": {},
   "outputs": [],
   "source": [
    "## Consumer Sentiment Index\n",
    "senti_index['year'] = senti_index['date_of_survey'].apply(lambda x: x.split('-')[2]).astype(int)\n",
    "senti_index['month'] = senti_index['date_of_survey'].apply(lambda x: x.split('-')[1]).astype(int)\n",
    "senti_index = senti_index[['year','month','csi']]"
   ]
  },
  {
   "cell_type": "code",
   "execution_count": 7,
   "id": "a80469f6",
   "metadata": {
    "scrolled": true
   },
   "outputs": [],
   "source": [
    "# Inflation Rate data\n",
    "inflation_rate = inflation_rate[['year','month','inflation_rate']]"
   ]
  },
  {
   "cell_type": "code",
   "execution_count": null,
   "id": "d5e6cb86",
   "metadata": {},
   "outputs": [],
   "source": [
    "# Housing Price data\n",
    "#house_price.head(5)"
   ]
  },
  {
   "cell_type": "code",
   "execution_count": 8,
   "id": "c59d58a8",
   "metadata": {
    "scrolled": true
   },
   "outputs": [],
   "source": [
    "#Adding Weekly Category Sales data to daily level data\n",
    "\"\"\"\n",
    "Calculating total category sales(for all SKUs) on weekly level\n",
    "\"\"\"\n",
    "weekly_category_sales = sd_ext.groupby(['category_name','seq_week'])['daily_units'].sum()\n",
    "weekly_category_sales = weekly_category_sales.reset_index()\n",
    "weekly_category_sales = weekly_category_sales.rename(columns={\"daily_units\": \"weekly_cat_sales\"})\n",
    "\n",
    "\n",
    "weekly_class_sales = sd_ext.groupby(['class_name','seq_week'])['daily_units'].sum()\n",
    "weekly_class_sales = weekly_class_sales.reset_index()\n",
    "weekly_class_sales = weekly_class_sales.rename(columns={\"daily_units\": \"weekly_class_sales\"})\n",
    "\n",
    "\n",
    "weekly_ml_sales = sd_ext.groupby(['ml_name','seq_week'])['daily_units'].sum()\n",
    "weekly_ml_sales = weekly_ml_sales.reset_index()\n",
    "weekly_ml_sales = weekly_ml_sales.rename(columns={\"daily_units\": \"weekly_ml_sales\"})\n",
    "\n",
    "\n",
    "weekly_subclass_sales = sd_ext.groupby(['subclass_name','seq_week'])['daily_units'].sum()\n",
    "weekly_subclass_sales = weekly_subclass_sales.reset_index()\n",
    "weekly_subclass_sales = weekly_subclass_sales.rename(columns={\"daily_units\": \"weekly_subclass_sales\"})"
   ]
  },
  {
   "cell_type": "code",
   "execution_count": 9,
   "id": "d7a75224",
   "metadata": {},
   "outputs": [],
   "source": [
    "# Merging to Initial Data\n",
    "\n",
    "sd_ext = (pd.merge(sd_ext,senti_index, on=['year','month']))\n",
    "sd_ext = (pd.merge(sd_ext,inflation_rate, on=['year','month']))\n",
    "sd_ext = (pd.merge(sd_ext,house_price, on=['year','month']))\n",
    "\n",
    "sd_ext = (pd.merge(sd_ext,weekly_category_sales, on=['category_name','seq_week']))\n",
    "sd_ext = (pd.merge(sd_ext,weekly_class_sales, on=['class_name','seq_week']))\n",
    "sd_ext = (pd.merge(sd_ext,weekly_ml_sales, on=['ml_name','seq_week']))\n",
    "sd_ext = (pd.merge(sd_ext,weekly_subclass_sales, on=['subclass_name','seq_week']))\n"
   ]
  },
  {
   "cell_type": "code",
   "execution_count": 10,
   "id": "67abac81",
   "metadata": {},
   "outputs": [
    {
     "data": {
      "text/plain": [
       "(883202, 28)"
      ]
     },
     "execution_count": 10,
     "metadata": {},
     "output_type": "execute_result"
    }
   ],
   "source": [
    "sd_ext.shape"
   ]
  },
  {
   "cell_type": "code",
   "execution_count": 11,
   "id": "222a412a",
   "metadata": {},
   "outputs": [
    {
     "data": {
      "text/plain": [
       "0    539\n",
       "1    539\n",
       "2    539\n",
       "3    539\n",
       "4    539\n",
       "5    539\n",
       "6    539\n",
       "Name: day_of_week, dtype: int64"
      ]
     },
     "execution_count": 11,
     "metadata": {},
     "output_type": "execute_result"
    }
   ],
   "source": [
    "# checking day wise SKU count for validation week\n",
    "\"\"\"\n",
    "Observation: not all SKUs are present in the validation week.\n",
    "\"\"\"\n",
    "sd_ext[sd_ext['seq_week']==271]['day_of_week'].value_counts()"
   ]
  },
  {
   "cell_type": "code",
   "execution_count": 12,
   "id": "7cef445b",
   "metadata": {},
   "outputs": [],
   "source": [
    "sd_ext.to_csv('sales_data_with_external.csv',index= False)"
   ]
  },
  {
   "cell_type": "markdown",
   "id": "736b5717",
   "metadata": {},
   "source": [
    "#### Aggregation and Feature Engineering\n",
    "\n",
    "* this step is broken into 2 parts so that we can save the data in intermediate file to not lose information in case of a system crash"
   ]
  },
  {
   "cell_type": "markdown",
   "id": "b53c9456",
   "metadata": {},
   "source": [
    "##### Part 1"
   ]
  },
  {
   "cell_type": "code",
   "execution_count": 14,
   "id": "TQAGEKMn3Ccd",
   "metadata": {
    "id": "TQAGEKMn3Ccd"
   },
   "outputs": [],
   "source": [
    "\"\"\"\n",
    "Aggregated Variables\n",
    "\"\"\"\n",
    "sd_agg = sd_ext.groupby(['encoded_sku_id','seq_week'])\n",
    "\n",
    "featset1 = sd_agg.agg({'daily_units': ['sum'],\n",
    "                        'retail_price': ['mean'],\n",
    "                        'promo_price': ['max'],\n",
    "                        'competitor_price': ['max']\n",
    "                        })\n",
    "\n",
    "\n",
    "\"\"\"\n",
    "conditional Aggregated features\n",
    "\"\"\"\n",
    "featset1['retail_price_avbl_cnt'] = sd_agg.apply(lambda x: x[x['retail_price'] !=0]['retail_price'].count())\n",
    "\n",
    "featset1['promo_price_avbl_cnt'] = sd_agg.apply(lambda x: x[x['promo_price_avbl'] ==1 ]['promo_price'].count())\n",
    "featset1['promo_price_avbl_mean'] = sd_agg.apply(lambda x: x[x['promo_price_avbl']  ==1]['promo_price'].mean())\n",
    "\n",
    "featset1['competitor_price_avbl_cnt'] = sd_agg.apply(lambda x: x[x['competitor_price_avbl'] ==1 ]['competitor_price'].count())\n",
    "featset1['competitor_price_avbl_mean'] = sd_agg.apply(lambda x: x[x['competitor_price_avbl']  ==1]['competitor_price'].mean())\n",
    "featset1['competitor_price_avbl_min'] = sd_agg.apply(lambda x: x[x['competitor_price_avbl']  ==1]['competitor_price'].min())\n",
    "featset1['competitor_price_avbl_max'] = sd_agg.apply(lambda x: x[x['competitor_price_avbl']  ==1]['competitor_price'].max())\n",
    "\n"
   ]
  },
  {
   "cell_type": "code",
   "execution_count": 15,
   "id": "711494c3",
   "metadata": {
    "scrolled": true
   },
   "outputs": [],
   "source": [
    "featset1 = featset1.reset_index()\n",
    "## Writing intermediate files\n",
    "featset1.to_csv('featset1_data.csv',index=False)"
   ]
  },
  {
   "cell_type": "markdown",
   "id": "5c0b9b04",
   "metadata": {},
   "source": [
    "##### Part 2"
   ]
  },
  {
   "cell_type": "code",
   "execution_count": 37,
   "id": "dae770bc",
   "metadata": {
    "scrolled": false
   },
   "outputs": [
    {
     "name": "stderr",
     "output_type": "stream",
     "text": [
      "C:\\Users\\SPECTRE\\AppData\\Local\\Temp\\ipykernel_18832\\2662809524.py:2: DtypeWarning: Columns (2,3,4,5) have mixed types. Specify dtype option on import or set low_memory=False.\n",
      "  featset1 = pd.read_csv('featset1_data.csv')\n"
     ]
    }
   ],
   "source": [
    "## Reading intermediate files\n",
    "featset1 = pd.read_csv('featset1_data.csv')\n",
    "sd_ext = pd.read_csv('sales_data_with_external.csv')\n",
    "featset2 = featset1.drop(labels=0, axis=0)"
   ]
  },
  {
   "cell_type": "code",
   "execution_count": 38,
   "id": "06c86b77",
   "metadata": {
    "id": "o0Ij2kOo4aE2"
   },
   "outputs": [],
   "source": [
    "## Inventory features\n",
    "\"\"\"\n",
    "Taking count of number of days in a week for each SKU where inventory status was P \n",
    "where P is in ('Fully-Stocked','Out-of-Stock','Constrained','Moderate')\n",
    "\"\"\"\n",
    "\n",
    "new_column = sd_agg.apply(lambda x: x[x['inventory'] =='Fully-Stocked']['inventory'].count())\n",
    "featset2['inventory_fs_cnt'] = new_column.reset_index()[0]\n",
    "\n",
    "new_column= sd_agg.apply(lambda x: x[x['inventory'] =='Out-of-Stock']['inventory'].count())\n",
    "featset2['inventory_oos_cnt'] = new_column.reset_index()[0]\n",
    "\n",
    "new_column= sd_agg.apply(lambda x: x[x['inventory'] =='Constrained']['inventory'].count())\n",
    "featset2['inventory_cnstr_cnt'] = new_column.reset_index()[0]\n",
    "\n",
    "new_column= sd_agg.apply(lambda x: x[x['inventory'] =='Moderate']['inventory'].count())\n",
    "featset2['inventory_mod_cnt'] = new_column.reset_index()[0]\n"
   ]
  },
  {
   "cell_type": "code",
   "execution_count": 39,
   "id": "5e59abf8",
   "metadata": {},
   "outputs": [],
   "source": [
    "## External Data Features\n",
    "\n",
    "\"\"\"\n",
    "Taking mean of external data values for a week for each SKU\n",
    "\"\"\"\n",
    "\n",
    "new_column = sd_agg.agg({'csi':'mean'})\n",
    "featset2['mean_weekly_csi'] = new_column.reset_index()['csi']\n",
    "\n",
    "new_column = sd_agg.agg({'inflation_rate':'mean'})\n",
    "featset2['mean_weekly_inflation'] = new_column.reset_index()['inflation_rate']\n",
    "\n",
    "new_column = sd_agg.agg({'Median Home Price (NSA)':'mean'})\n",
    "featset2['mean_weekly_mh_price'] = new_column.reset_index()['Median Home Price (NSA)']\n",
    "\n",
    "new_column = sd_agg.agg({'CPI-Adjusted Price':'mean'})\n",
    "featset2['mean_weekly_cpi_adj_price'] = new_column.reset_index()['CPI-Adjusted Price']\n"
   ]
  },
  {
   "cell_type": "code",
   "execution_count": 40,
   "id": "bfab80e7",
   "metadata": {},
   "outputs": [],
   "source": [
    "## Category Features\n",
    "\"\"\"\n",
    "Calculating mean category sales for a week for each SKU\n",
    "\"\"\"\n",
    "\n",
    "new_column = sd_agg.agg({'weekly_cat_sales':'mean'})\n",
    "featset2['mean_weekly_cat_sales'] = new_column.reset_index()['weekly_cat_sales']\n",
    "\n",
    "new_column = sd_agg.agg({'weekly_class_sales':'mean'})\n",
    "featset2['mean_weekly_class_sales'] = new_column.reset_index()['weekly_class_sales']\n",
    "\n",
    "new_column = sd_agg.agg({'weekly_subclass_sales':'mean'})\n",
    "featset2['mean_weekly_subclass_sales'] = new_column.reset_index()['weekly_subclass_sales']\n",
    "\n",
    "new_column = sd_agg.agg({'weekly_ml_sales':'mean'})\n",
    "featset2['mean_weekly_ml_sales'] = new_column.reset_index()['weekly_ml_sales']\n"
   ]
  },
  {
   "cell_type": "code",
   "execution_count": 41,
   "id": "Q6vt4el2dW_g",
   "metadata": {
    "id": "Q6vt4el2dW_g"
   },
   "outputs": [],
   "source": [
    "#Competitor Features\n",
    "\"\"\"\n",
    "Adding Min and Max competitior price available for each week for each SKU\n",
    "\"\"\"\n",
    "new_column = sd_agg.apply(lambda x: x[x['competitor_price_avbl'] ==1]['competitor_price'].min())\n",
    "featset2['competitor_price_avbl_min'] = new_column.reset_index()[0]\n",
    "\n",
    "new_column = sd_agg.apply(lambda x: x[x['competitor_price_avbl']  ==1]['competitor_price'].max())\n",
    "featset2['competitor_price_avbl_max'] = new_column.reset_index()[0]"
   ]
  },
  {
   "cell_type": "code",
   "execution_count": 44,
   "id": "1hV7miSHnnUe",
   "metadata": {
    "id": "1hV7miSHnnUe"
   },
   "outputs": [],
   "source": [
    "featset2.rename(columns = {'daily_units':'weekly_sales_units',\n",
    "                           'retail_price':'mean_weekly_retail_price',\n",
    "                           'promo_price':'max_weekly_promo_price',\n",
    "                           'competitor_price':'max_weekly_competitor_price'}, inplace = True)"
   ]
  },
  {
   "cell_type": "code",
   "execution_count": 45,
   "id": "732b2f9c",
   "metadata": {},
   "outputs": [
    {
     "name": "stdout",
     "output_type": "stream",
     "text": [
      "weekly_sales_units converted\n",
      "mean_weekly_retail_price converted\n",
      "max_weekly_promo_price converted\n",
      "max_weekly_competitor_price converted\n"
     ]
    }
   ],
   "source": [
    "for i in ['weekly_sales_units','mean_weekly_retail_price','max_weekly_promo_price','max_weekly_competitor_price']:\n",
    "    featset2[i] = featset2[i].astype('float')\n",
    "    print(f\"{i} converted\")"
   ]
  },
  {
   "cell_type": "code",
   "execution_count": 47,
   "id": "909ed88b",
   "metadata": {
    "id": "iUbM3g4I5xAB"
   },
   "outputs": [],
   "source": [
    "# shift Features\n",
    "\"\"\"\n",
    "Creating shift variables to capture time series pattern. \n",
    "Shift=1 means taking previous week's data\n",
    "Shift=2 means taking 2 week's previous data\n",
    "Shift=4 means taking 4 week's previous data\n",
    "\n",
    "prev_week_{}diff = Difference of metric data with previous week metric data\n",
    "prev_2week_{}diff = Difference of previous week metric data with 2 week previous metric data\n",
    "prev_month_{}diff = Difference of metric data with 4 week previous metric data\n",
    "\"\"\"\n",
    "\n",
    "#Sales Shift\n",
    "final = featset2.copy()\n",
    "final['prev_week_sales'] = final['weekly_sales_units'].shift()\n",
    "final['prev_week_salesdiff'] = final['weekly_sales_units'] - final['prev_week_sales']\n",
    "\n",
    "final['prev_2week_sales'] = final['weekly_sales_units'].shift(2)\n",
    "final['prev_2week_salesdiff'] = final['prev_week_sales'] - final['prev_2week_sales']\n",
    "\n",
    "\n",
    "final['prev_month_sales'] = final['weekly_sales_units'].shift(4)\n",
    "final['prev_month_salesdiff'] = final['weekly_sales_units'] - final['prev_month_sales']\n",
    "\n",
    "#Retail Price Shift\n",
    "final['prev_week_RP'] = final['mean_weekly_retail_price'].shift()\n",
    "final['prev_week_RPsdiff'] = final['mean_weekly_retail_price'] - final['prev_week_RP']\n",
    "\n",
    "final['prev_2week_RP'] = final['mean_weekly_retail_price'].shift(2)\n",
    "final['prev_2week_RPdiff'] = final['prev_week_RP'] - final['prev_2week_RP']\n",
    "\n",
    "\n",
    "final['prev_month_RP'] = final['mean_weekly_retail_price'].shift(4)\n",
    "final['prev_month_RPdiff'] = final['mean_weekly_retail_price'] - final['prev_month_RP']\n",
    "\n",
    "#Inflation Shift\n",
    "final['prev_week_inflation'] = final['mean_weekly_inflation'].shift()\n",
    "final['prev_week_inflationdiff'] = final['mean_weekly_inflation'] - final['prev_week_inflation']\n",
    "\n",
    "final['prev_2week_inflation'] = final['mean_weekly_inflation'].shift(2)\n",
    "final['prev_2week_inflationdiff'] = final['prev_week_inflation'] - final['prev_2week_inflation']\n",
    "\n",
    "\n",
    "final['prev_month_inflation'] = final['mean_weekly_inflation'].shift(4)\n",
    "final['prev_month_inflationdiff'] = final['mean_weekly_inflation'] - final['prev_month_inflation']\n",
    "\n",
    "#CSI Shift\n",
    "final['prev_week_csi'] = final['mean_weekly_csi'].shift()\n",
    "final['prev_week_csidiff'] = final['mean_weekly_csi'] - final['prev_week_csi']\n",
    "\n",
    "final['prev_2week_csi'] = final['mean_weekly_csi'].shift(2)\n",
    "final['prev_2week_csidiff'] = final['prev_week_csi'] - final['prev_2week_csi']\n",
    "\n",
    "\n",
    "final['prev_month_csi'] = final['mean_weekly_csi'].shift(4)\n",
    "final['prev_month_csidiff'] = final['mean_weekly_csi'] - final['prev_month_csi']\n",
    "\n",
    "#MH Price Shift\n",
    "final['prev_week_mh_price'] = final['mean_weekly_mh_price'].shift()\n",
    "final['prev_week_mh_pricediff'] = final['mean_weekly_mh_price'] - final['prev_week_mh_price']\n",
    "\n",
    "final['prev_2week_mh_price'] = final['mean_weekly_mh_price'].shift(2)\n",
    "final['prev_2week_mh_pricediff'] = final['prev_week_mh_price'] - final['prev_2week_mh_price']\n",
    "\n",
    "\n",
    "final['prev_month_mh_price'] = final['mean_weekly_mh_price'].shift(4)\n",
    "final['prev_month_mh_pricediff'] = final['mean_weekly_mh_price'] - final['prev_month_mh_price']\n",
    "\n",
    "#MH Price Shift\n",
    "final['prev_week_cpi_adj_price'] = final['mean_weekly_cpi_adj_price'].shift()\n",
    "final['prev_week_cpi_adj_priceediff'] = final['mean_weekly_cpi_adj_price'] - final['prev_week_cpi_adj_price']\n",
    "\n",
    "final['prev_2week_cpi_adj_price'] = final['mean_weekly_cpi_adj_price'].shift(2)\n",
    "final['prev_2week_cpi_adj_pricediff'] = final['prev_week_cpi_adj_price'] - final['prev_2week_cpi_adj_price']\n",
    "\n",
    "\n",
    "final['prev_month_cpi_adj_price'] = final['mean_weekly_cpi_adj_price'].shift(4)\n",
    "final['prev_month_cpi_adj_pricediff'] = final['mean_weekly_cpi_adj_price'] - final['prev_month_cpi_adj_price']\n",
    "\n",
    "\n",
    "#Category Sales Shift\n",
    "final['prev_week_cat_sales'] = final['mean_weekly_cat_sales'].shift()\n",
    "final['prev_week_cat_salesdiff'] = final['mean_weekly_cat_sales'] - final['prev_week_cat_sales']\n",
    "\n",
    "final['prev_2week_cat_sales'] = final['mean_weekly_cat_sales'].shift(2)\n",
    "final['prev_2week_cat_salesdiff'] = final['prev_week_cat_sales'] - final['prev_2week_cat_sales']\n",
    "\n",
    "\n",
    "final['prev_month_cat_sales'] = final['mean_weekly_cat_sales'].shift(4)\n",
    "final['prev_month_cat_salesdiff'] = final['mean_weekly_cat_sales'] - final['prev_month_cat_sales']\n",
    "\n",
    "#ml Sales Shift\n",
    "final['prev_week_ml_sales'] = final['mean_weekly_ml_sales'].shift()\n",
    "final['prev_week_ml_salesdiff'] = final['mean_weekly_ml_sales'] - final['prev_week_ml_sales']\n",
    "\n",
    "final['prev_2week_ml_sales'] = final['mean_weekly_ml_sales'].shift(2)\n",
    "final['prev_2week_ml_salesdiff'] = final['prev_week_ml_sales'] - final['prev_2week_ml_sales']\n",
    "\n",
    "\n",
    "final['prev_month_ml_sales'] = final['mean_weekly_ml_sales'].shift(4)\n",
    "final['prev_month_ml_salesdiff'] = final['mean_weekly_ml_sales'] - final['prev_month_ml_sales']\n",
    "\n",
    "\n",
    "#class Sales Shift\n",
    "final['prev_week_class_sales'] = final['mean_weekly_class_sales'].shift()\n",
    "final['prev_week_class_salesdiff'] = final['mean_weekly_class_sales'] - final['prev_week_class_sales']\n",
    "\n",
    "final['prev_2week_class_sales'] = final['mean_weekly_class_sales'].shift(2)\n",
    "final['prev_2week_class_salesdiff'] = final['prev_week_class_sales'] - final['prev_2week_class_sales']\n",
    "\n",
    "\n",
    "final['prev_month_class_sales'] = final['mean_weekly_class_sales'].shift(4)\n",
    "final['prev_month_class_salesdiff'] = final['mean_weekly_class_sales'] - final['prev_month_class_sales']\n",
    "\n",
    "#subclass Sales Shift\n",
    "final['prev_week_subclass_sales'] = final['mean_weekly_subclass_sales'].shift()\n",
    "final['prev_week_subclass_salesdiff'] = final['mean_weekly_subclass_sales'] - final['prev_week_subclass_sales']\n",
    "\n",
    "final['prev_2week_subclass_sales'] = final['mean_weekly_subclass_sales'].shift(2)\n",
    "final['prev_2week_subclass_salesdiff'] = final['prev_week_subclass_sales'] - final['prev_2week_subclass_sales']\n",
    "\n",
    "\n",
    "final['prev_month_subclass_sales'] = final['mean_weekly_subclass_sales'].shift(4)\n",
    "final['prev_month_subclass_salesdiff'] = final['mean_weekly_subclass_sales'] - final['prev_month_subclass_sales']"
   ]
  },
  {
   "cell_type": "code",
   "execution_count": 48,
   "id": "fddaadf2",
   "metadata": {},
   "outputs": [],
   "source": [
    "# Imputing NAN with -999999 so that regressor treats them separately\n",
    "final = final.fillna(-999999)"
   ]
  },
  {
   "cell_type": "code",
   "execution_count": 49,
   "id": "38b4ba16",
   "metadata": {},
   "outputs": [],
   "source": [
    "## Model Data\n",
    "final.to_csv('final_data.csv', index=False)"
   ]
  },
  {
   "cell_type": "markdown",
   "id": "kd2SbFDozi2l",
   "metadata": {
    "id": "kd2SbFDozi2l"
   },
   "source": [
    "## Model Selection"
   ]
  },
  {
   "cell_type": "code",
   "execution_count": 250,
   "id": "f9e5fe94",
   "metadata": {
    "id": "f9e5fe94"
   },
   "outputs": [],
   "source": [
    "## RMSE Metric\n",
    "def rmse(ytrue, ypred):\n",
    "    return np.sqrt(np.mean((ytrue-ypred)**2))"
   ]
  },
  {
   "cell_type": "code",
   "execution_count": 251,
   "id": "3fed7d9b",
   "metadata": {},
   "outputs": [],
   "source": [
    "final = pd.read_csv(\"final_data.csv\")"
   ]
  },
  {
   "cell_type": "code",
   "execution_count": 252,
   "id": "cc3284f1",
   "metadata": {},
   "outputs": [
    {
     "data": {
      "text/plain": [
       "539"
      ]
     },
     "execution_count": 252,
     "metadata": {},
     "output_type": "execute_result"
    }
   ],
   "source": [
    "## checking SKU count for validation week\n",
    "len(final[final['seq_week']==271])"
   ]
  },
  {
   "cell_type": "markdown",
   "id": "091afaab",
   "metadata": {},
   "source": [
    "#### Part 1: Model to predict weekly sales unit"
   ]
  },
  {
   "cell_type": "markdown",
   "id": "tRkdhS-o7IGt",
   "metadata": {
    "id": "tRkdhS-o7IGt"
   },
   "source": [
    "#### LGBM regressor"
   ]
  },
  {
   "cell_type": "code",
   "execution_count": 253,
   "id": "037b92ad",
   "metadata": {},
   "outputs": [],
   "source": [
    "## Setting Search Space\n",
    "eval_week = 271\n",
    "lr_list = [0.005,0.0075, 0.01]\n",
    "est_list = [1000,1250,1500]\n"
   ]
  },
  {
   "cell_type": "code",
   "execution_count": 254,
   "id": "89d108e4",
   "metadata": {
    "scrolled": true
   },
   "outputs": [
    {
     "name": "stdout",
     "output_type": "stream",
     "text": [
      "Starting model fit for lr =0.0050\n",
      "Starting model fit for Estimator =1000\n",
      "LR = 0.0050 and Estimator = 1000 iteration completed in 0.69 mins with RMSE: 6.19780\n",
      "Starting model fit for Estimator =1250\n",
      "LR = 0.0050 and Estimator = 1250 iteration completed in 0.82 mins with RMSE: 4.92637\n",
      "Starting model fit for Estimator =1500\n",
      "LR = 0.0050 and Estimator = 1500 iteration completed in 0.86 mins with RMSE: 4.66259\n",
      "Starting model fit for lr =0.0075\n",
      "Starting model fit for Estimator =1000\n",
      "LR = 0.0075 and Estimator = 1000 iteration completed in 0.57 mins with RMSE: 4.46848\n",
      "Starting model fit for Estimator =1250\n",
      "LR = 0.0075 and Estimator = 1250 iteration completed in 0.69 mins with RMSE: 4.19801\n",
      "Starting model fit for Estimator =1500\n",
      "LR = 0.0075 and Estimator = 1500 iteration completed in 1.01 mins with RMSE: 4.93078\n",
      "Starting model fit for lr =0.0100\n",
      "Starting model fit for Estimator =1000\n",
      "LR = 0.0100 and Estimator = 1000 iteration completed in 0.63 mins with RMSE: 3.90810\n",
      "Starting model fit for Estimator =1250\n",
      "LR = 0.0100 and Estimator = 1250 iteration completed in 0.75 mins with RMSE: 4.57458\n",
      "Starting model fit for Estimator =1500\n",
      "LR = 0.0100 and Estimator = 1500 iteration completed in 0.99 mins with RMSE: 6.41824\n",
      "Model Selection completed in 7.0 mins\n"
     ]
    },
    {
     "data": {
      "text/html": [
       "<div>\n",
       "<style scoped>\n",
       "    .dataframe tbody tr th:only-of-type {\n",
       "        vertical-align: middle;\n",
       "    }\n",
       "\n",
       "    .dataframe tbody tr th {\n",
       "        vertical-align: top;\n",
       "    }\n",
       "\n",
       "    .dataframe thead th {\n",
       "        text-align: right;\n",
       "    }\n",
       "</style>\n",
       "<table border=\"1\" class=\"dataframe\">\n",
       "  <thead>\n",
       "    <tr style=\"text-align: right;\">\n",
       "      <th></th>\n",
       "      <th>learning_rate</th>\n",
       "      <th>n_estimators</th>\n",
       "      <th>run_time</th>\n",
       "      <th>rmse</th>\n",
       "      <th>weekly_predictions</th>\n",
       "    </tr>\n",
       "  </thead>\n",
       "  <tbody>\n",
       "    <tr>\n",
       "      <th>0</th>\n",
       "      <td>0.0050</td>\n",
       "      <td>1000</td>\n",
       "      <td>0.69</td>\n",
       "      <td>6.197797</td>\n",
       "      <td>[6.136498700745433, 17.436458812793063, 5.4253...</td>\n",
       "    </tr>\n",
       "    <tr>\n",
       "      <th>1</th>\n",
       "      <td>0.0050</td>\n",
       "      <td>1250</td>\n",
       "      <td>0.82</td>\n",
       "      <td>4.926375</td>\n",
       "      <td>[5.728535514198305, 16.7639074090728, 4.974621...</td>\n",
       "    </tr>\n",
       "    <tr>\n",
       "      <th>2</th>\n",
       "      <td>0.0050</td>\n",
       "      <td>1500</td>\n",
       "      <td>0.86</td>\n",
       "      <td>4.662591</td>\n",
       "      <td>[5.570432462375674, 16.175757458697824, 4.8065...</td>\n",
       "    </tr>\n",
       "    <tr>\n",
       "      <th>3</th>\n",
       "      <td>0.0075</td>\n",
       "      <td>1000</td>\n",
       "      <td>0.57</td>\n",
       "      <td>4.468476</td>\n",
       "      <td>[5.5706371333128475, 16.196510607942756, 4.844...</td>\n",
       "    </tr>\n",
       "    <tr>\n",
       "      <th>4</th>\n",
       "      <td>0.0075</td>\n",
       "      <td>1250</td>\n",
       "      <td>0.69</td>\n",
       "      <td>4.198006</td>\n",
       "      <td>[5.447704049140018, 15.862839826329555, 4.7166...</td>\n",
       "    </tr>\n",
       "    <tr>\n",
       "      <th>5</th>\n",
       "      <td>0.0075</td>\n",
       "      <td>1500</td>\n",
       "      <td>1.01</td>\n",
       "      <td>4.930785</td>\n",
       "      <td>[5.359813605469163, 15.720462872326378, 4.6287...</td>\n",
       "    </tr>\n",
       "    <tr>\n",
       "      <th>6</th>\n",
       "      <td>0.0100</td>\n",
       "      <td>1000</td>\n",
       "      <td>0.63</td>\n",
       "      <td>3.908100</td>\n",
       "      <td>[5.433350719936108, 15.904329508358312, 4.6319...</td>\n",
       "    </tr>\n",
       "    <tr>\n",
       "      <th>7</th>\n",
       "      <td>0.0100</td>\n",
       "      <td>1250</td>\n",
       "      <td>0.75</td>\n",
       "      <td>4.574581</td>\n",
       "      <td>[5.275463120220109, 15.640270447435006, 4.4607...</td>\n",
       "    </tr>\n",
       "    <tr>\n",
       "      <th>8</th>\n",
       "      <td>0.0100</td>\n",
       "      <td>1500</td>\n",
       "      <td>0.99</td>\n",
       "      <td>6.418239</td>\n",
       "      <td>[5.254953197802846, 15.549870967607148, 4.4304...</td>\n",
       "    </tr>\n",
       "  </tbody>\n",
       "</table>\n",
       "</div>"
      ],
      "text/plain": [
       "   learning_rate  n_estimators  run_time      rmse  \\\n",
       "0         0.0050          1000      0.69  6.197797   \n",
       "1         0.0050          1250      0.82  4.926375   \n",
       "2         0.0050          1500      0.86  4.662591   \n",
       "3         0.0075          1000      0.57  4.468476   \n",
       "4         0.0075          1250      0.69  4.198006   \n",
       "5         0.0075          1500      1.01  4.930785   \n",
       "6         0.0100          1000      0.63  3.908100   \n",
       "7         0.0100          1250      0.75  4.574581   \n",
       "8         0.0100          1500      0.99  6.418239   \n",
       "\n",
       "                                  weekly_predictions  \n",
       "0  [6.136498700745433, 17.436458812793063, 5.4253...  \n",
       "1  [5.728535514198305, 16.7639074090728, 4.974621...  \n",
       "2  [5.570432462375674, 16.175757458697824, 4.8065...  \n",
       "3  [5.5706371333128475, 16.196510607942756, 4.844...  \n",
       "4  [5.447704049140018, 15.862839826329555, 4.7166...  \n",
       "5  [5.359813605469163, 15.720462872326378, 4.6287...  \n",
       "6  [5.433350719936108, 15.904329508358312, 4.6319...  \n",
       "7  [5.275463120220109, 15.640270447435006, 4.4607...  \n",
       "8  [5.254953197802846, 15.549870967607148, 4.4304...  "
      ]
     },
     "execution_count": 254,
     "metadata": {},
     "output_type": "execute_result"
    }
   ],
   "source": [
    "# Grid Search Iterations to find best model for weekly sales units prediction\n",
    "\n",
    "run_time = []\n",
    "rmse_list = []\n",
    "pred_list= []\n",
    "t0 = time.time()\n",
    "for lr in lr_list:\n",
    "    print(\"Starting model fit for lr =%.4f\" %lr)\n",
    "    for est in est_list:\n",
    "        print(\"Starting model fit for Estimator =%d\" %est)\n",
    "        t1= time.time()\n",
    "        train = final[final['seq_week'] < eval_week]\n",
    "        val = final[final['seq_week'] == eval_week]\n",
    "\n",
    "        xtr, xts = train.drop(['weekly_sales_units'], axis=1), val.drop(['weekly_sales_units'], axis=1)\n",
    "        ytr, yts = train['weekly_sales_units'].values, val['weekly_sales_units'].values\n",
    "\n",
    "        mdl = LGBMRegressor(n_estimators=est, learning_rate=lr, random_state =0)\n",
    "        mdl.fit(xtr, ytr)\n",
    "\n",
    "        y_pred_weekly = mdl.predict(xts)\n",
    "\n",
    "        rmse_error = rmse(yts, y_pred_weekly)\n",
    "        t2 = round((time.time()-t1)/60,2)\n",
    "        print('LR = %.4f and Estimator = %d iteration completed in %.2f mins with RMSE: %.5f' % (lr,est,t2,rmse_error))\n",
    "        run_time.append(t2)\n",
    "        rmse_list.append(rmse_error)\n",
    "        pred_list.append(y_pred_weekly)\n",
    "\n",
    "print(\"Model Selection completed in\",round((time.time()-t0)/60,2),\"mins\")\n",
    "\n",
    "lgbm_results = pd.DataFrame(columns=['learning_rate','n_estimators','run_time','rmse','weekly_predictions'])             \n",
    "lgbm_results['learning_rate'] = np.repeat(lr_list,len(est_list))\n",
    "lgbm_results['n_estimators'] = est_list*len(lr_list)\n",
    "lgbm_results['run_time'] = run_time\n",
    "lgbm_results['rmse'] = rmse_list\n",
    "lgbm_results['weekly_predictions'] = pred_list\n",
    "\n",
    "lgbm_results"
   ]
  },
  {
   "cell_type": "markdown",
   "id": "drnCSyEu7MXW",
   "metadata": {
    "id": "drnCSyEu7MXW"
   },
   "source": [
    "#### XGB Regressor"
   ]
  },
  {
   "cell_type": "code",
   "execution_count": null,
   "id": "f57bf23e",
   "metadata": {},
   "outputs": [],
   "source": [
    "# Grid Search Iterations to find best model for weekly sales units prediction\n",
    "run_time = []\n",
    "rmse_list = []\n",
    "pred_list= []\n",
    "t0 = time.time()\n",
    "for lr in lr_list:\n",
    "    print(\"Starting model fit for lr =%.4f\" %lr)\n",
    "    for est in est_list:\n",
    "        print(\"Starting model fit for Estimator =%d\" %est)\n",
    "        t1= time.time()\n",
    "        train = final[final['seq_week'] < eval_week]\n",
    "        val = final[final['seq_week'] == eval_week]\n",
    "\n",
    "        xtr, xts = train.drop(['weekly_sales_units'], axis=1), val.drop(['weekly_sales_units'], axis=1)\n",
    "        ytr, yts = train['weekly_sales_units'].values, val['weekly_sales_units'].values\n",
    "\n",
    "        mdl = XGBRegressor(n_estimators=est, learning_rate=lr, random_state =0)\n",
    "        mdl.fit(xtr, ytr)\n",
    "\n",
    "        y_pred_weekly = mdl.predict(xts)\n",
    "\n",
    "        rmse_error = rmse(yts, y_pred_weekly)\n",
    "        t2 = round((time.time()-t1)/60,2)\n",
    "        print('LR = %.4f and Estimator = %d iteration completed in %.2f mins with RMSE: %.5f' % (lr,est,t2,rmse_error))\n",
    "        run_time.append(t1)\n",
    "        rmse_list.append(rmse_error)\n",
    "        pred_list.append(y_pred_weekly)\n",
    "\n",
    "print(\"Model Selection completed in\",round((time.time()-t1)/60,2),\"mins\")\n",
    "xgb_results = pd.DataFrame(columns=['learning_rate','n_estimators','run_time','rmse','weekly_predictions'])             \n",
    "xgb_results['learning_rate'] = np.repeat(lr_list,len(est_list))\n",
    "xgb_results['n_estimators'] = est_list\n",
    "xgb_results['run_time'] = run_time\n",
    "xgb_results['rmse'] = rmse_list\n",
    "xgb_results['weekly_predictions'] = pred_list\n",
    "\n",
    "xgb_results"
   ]
  },
  {
   "cell_type": "code",
   "execution_count": 280,
   "id": "07b048a7",
   "metadata": {},
   "outputs": [
    {
     "name": "stdout",
     "output_type": "stream",
     "text": [
      "Model run completed in 6.42 mins\n",
      "Error: 3.90810\n"
     ]
    }
   ],
   "source": [
    "eval_week =271\n",
    "lr = 0.01\n",
    "est = 1000\n",
    "t1= time.time()\n",
    "train = final[final['seq_week'] < eval_week]\n",
    "val = final[final['seq_week'] == eval_week]\n",
    "\n",
    "xtr, xts = train.drop(['weekly_sales_units'], axis=1), val.drop(['weekly_sales_units'], axis=1)\n",
    "ytr, yts = train['weekly_sales_units'].values, val['weekly_sales_units'].values\n",
    "\n",
    "mdl = XGBRegressor(n_estimators=est, learning_rate=lr, random_state =0)\n",
    "mdl.fit(xtr, ytr)\n",
    "\n",
    "print(\"Model run completed in\",round((time.time()-t1)/60,2),\"mins\")\n",
    "\n",
    "y_pred = mdl.predict(xts)\n",
    "error = rmse(yts, y_pred_weekly_champ)\n",
    "print('Error: %.5f' % (error))"
   ]
  },
  {
   "cell_type": "markdown",
   "id": "c071d766",
   "metadata": {},
   "source": [
    "XGB Regressor took almost 5 minutes to run an iteration as compared to about 2 minute fo one iteration of LGBM. thus, with no significant performance difference, we decided to move ahead with LGBM as our choice of algorithm."
   ]
  },
  {
   "cell_type": "markdown",
   "id": "5e49fdb9",
   "metadata": {},
   "source": [
    "##### Creating weekly best model"
   ]
  },
  {
   "cell_type": "code",
   "execution_count": 255,
   "id": "7285c2ef",
   "metadata": {},
   "outputs": [],
   "source": [
    "## Creating Weekly Prediction Best Model File\n",
    "eval_week =271\n",
    "lr = 0.01\n",
    "est = 1000\n",
    "\n",
    "train = final[final['seq_week'] < eval_week]\n",
    "val = final[final['seq_week'] == eval_week]\n",
    "\n",
    "xtr, xts = train.drop(['weekly_sales_units'], axis=1), val.drop(['weekly_sales_units'], axis=1)\n",
    "ytr, yts = train['weekly_sales_units'].values, val['weekly_sales_units'].values\n",
    "\n",
    "wp_best_mdl = LGBMRegressor(n_estimators=est, learning_rate=lr, random_state =0)\n",
    "wp_best_mdl.fit(xtr, ytr)\n",
    "\n",
    "pickle.dump(wp_best_mdl, open('wp_champion_model.pkl', 'wb'))\n"
   ]
  },
  {
   "cell_type": "code",
   "execution_count": 256,
   "id": "5dfd8737",
   "metadata": {},
   "outputs": [
    {
     "name": "stdout",
     "output_type": "stream",
     "text": [
      "Error: 3.90810\n"
     ]
    }
   ],
   "source": [
    "# Model Error\n",
    "wp_best_mdl = pickle.load(open('wp_champion_model.pkl', 'rb'))\n",
    "\n",
    "y_pred_weekly_champ = wp_best_mdl.predict(xts)\n",
    "\n",
    "error = rmse(yts, y_pred_weekly_champ)\n",
    "print('Error: %.5f' % (error))"
   ]
  },
  {
   "cell_type": "code",
   "execution_count": 257,
   "id": "b2cb585d",
   "metadata": {},
   "outputs": [
    {
     "data": {
      "text/plain": [
       "Text(0.5, 0, 'Model Feature Importance')"
      ]
     },
     "execution_count": 257,
     "metadata": {},
     "output_type": "execute_result"
    },
    {
     "data": {
      "image/png": "[encoded data removed]",
      "text/plain": [
       "<Figure size 2160x2160 with 1 Axes>"
      ]
     },
     "metadata": {
      "needs_background": "light"
     },
     "output_type": "display_data"
    }
   ],
   "source": [
    "## Plotting Top 20 variables\n",
    "sorted_idx = wp_best_mdl.feature_importances_.argsort()\n",
    "plt.figure(figsize=(30,30)) \n",
    "plt.barh(val.columns[sorted_idx],wp_best_mdl.feature_importances_[sorted_idx])\n",
    "plt.xlabel(\"Model Feature Importance\")\n"
   ]
  },
  {
   "cell_type": "markdown",
   "id": "857830ae",
   "metadata": {},
   "source": [
    "#### Part 2: Weekly Proportion strategies"
   ]
  },
  {
   "cell_type": "markdown",
   "id": "3d6e61e4",
   "metadata": {},
   "source": [
    "##### Method -1: Ratio of day of week and weekly_daily_units for entire data "
   ]
  },
  {
   "cell_type": "code",
   "execution_count": 258,
   "id": "6fbe9338",
   "metadata": {},
   "outputs": [],
   "source": [
    "# Transformation\n",
    "prop_data = sd_ext[sd_ext['seq_week'] < eval_week]\n",
    "\n",
    "sd_agg_2 = prop_data.groupby(['encoded_sku_id','day_of_week'])\n",
    "\n",
    "scoring_data = sd_agg_2.agg({'daily_units': ['sum']})\n",
    "scoring_data = scoring_data.reset_index()\n",
    "scoring_data.rename(columns = {'daily_units':'dow_sales_units_m1'}, inplace = True)\n",
    "\n",
    "total_sales = prop_data.groupby(['encoded_sku_id']).agg({'daily_units': ['sum']})\n",
    "total_sales = total_sales.reset_index()\n",
    "total_sales = total_sales.loc[total_sales.index.repeat([7])].reset_index(drop=True)\n",
    "\n",
    "scoring_data['total_sales_m1'] = total_sales['daily_units']\n",
    "scoring_data.columns = scoring_data.columns.droplevel(1)\n",
    "\n",
    "\n",
    "scoring_data['percent_sales_m1'] = (scoring_data['dow_sales_units_m1'] / scoring_data['total_sales_m1'])"
   ]
  },
  {
   "cell_type": "code",
   "execution_count": 259,
   "id": "68200676",
   "metadata": {
    "scrolled": true
   },
   "outputs": [
    {
     "name": "stdout",
     "output_type": "stream",
     "text": [
      "RMSE: 2.5076430902659035\n"
     ]
    }
   ],
   "source": [
    "# Scoring\n",
    "testset = sd_ext[(sd_ext[\"seq_week\"] == eval_week)]\n",
    "testset = testset[['encoded_sku_id','seq_week','day_of_week','daily_units']]\n",
    "testset = testset.sort_values(by=['encoded_sku_id', 'day_of_week'])\n",
    "\n",
    "testset['weekly_prediction_champion'] =np.repeat(y_pred_weekly_champ,7)\n",
    "testset = pd.merge(testset,scoring_data, on = ['encoded_sku_id','day_of_week'], how= 'left')\n",
    "\n",
    "testset['daily_prediction_m1'] = testset['percent_sales_m1']*testset['weekly_prediction_champion']\n",
    "\n",
    "# RMSE Calculation\n",
    "a = np.array(testset['daily_prediction_m1'])\n",
    "b = np.array(testset['daily_units'])\n",
    "\n",
    "print(\"RMSE:\",rmse(b, a))"
   ]
  },
  {
   "cell_type": "markdown",
   "id": "76f4f56f",
   "metadata": {},
   "source": [
    "##### Method -2: Ratio of day of week and weekly_daily_units for last 12 weeks"
   ]
  },
  {
   "cell_type": "code",
   "execution_count": 260,
   "id": "749f7774",
   "metadata": {},
   "outputs": [],
   "source": [
    "# Transformation\n",
    "prop_data2 = sd_ext[(sd_ext['seq_week'] < eval_week) & (sd_ext['seq_week'] >= eval_week-12)]\n",
    "\n",
    "sd_agg_3 = prop_data2.groupby(['encoded_sku_id','day_of_week'])\n",
    "\n",
    "scoring_data2 = sd_agg_3.agg({'daily_units': ['sum']})\n",
    "scoring_data2 = scoring_data2.reset_index()\n",
    "scoring_data2.rename(columns = {'daily_units':'dow_sales_units_m2'}, inplace = True)\n",
    "\n",
    "total_sales2 = prop_data2.groupby(['encoded_sku_id']).agg({'daily_units': ['sum']})\n",
    "total_sales2 = total_sales2.reset_index()\n",
    "total_sales2 = total_sales2.loc[total_sales2.index.repeat([7])].reset_index(drop=True)\n",
    "\n",
    "scoring_data2['total_sales_m2'] = total_sales2['daily_units']\n",
    "scoring_data2.columns = scoring_data2.columns.droplevel(1)\n",
    "\n",
    "\n",
    "scoring_data2['percent_sales_m2'] = (scoring_data2['dow_sales_units_m2'] / scoring_data2['total_sales_m2'])"
   ]
  },
  {
   "cell_type": "code",
   "execution_count": 261,
   "id": "b4c35da6",
   "metadata": {},
   "outputs": [
    {
     "name": "stdout",
     "output_type": "stream",
     "text": [
      "RMSE: 2.237097283058641\n"
     ]
    }
   ],
   "source": [
    "# Scoring\n",
    "testset = pd.merge(testset,scoring_data2, on = ['encoded_sku_id','day_of_week'], how= 'left')\n",
    "\n",
    "testset['daily_prediction_m2'] = testset['percent_sales_m2']*testset['weekly_prediction_champion']\n",
    "\n",
    "testset.columns\n",
    "# RMSE Calculation\n",
    "a = np.array(testset['daily_prediction_m2'])\n",
    "b = np.array(testset['daily_units'])\n",
    "\n",
    "print(\"RMSE:\",rmse(b, a))"
   ]
  },
  {
   "cell_type": "markdown",
   "id": "aa1dbda3",
   "metadata": {},
   "source": [
    "##### Method -3: Forecasting the day of week proportion of weekly daily units"
   ]
  },
  {
   "cell_type": "code",
   "execution_count": 262,
   "id": "09cd2ffc",
   "metadata": {},
   "outputs": [
    {
     "name": "stderr",
     "output_type": "stream",
     "text": [
      "C:\\Users\\SPECTRE\\AppData\\Local\\Temp\\ipykernel_18832\\3835679820.py:1: DtypeWarning: Columns (2,3,4,5) have mixed types. Specify dtype option on import or set low_memory=False.\n",
      "  featset1 = pd.read_csv('featset1_data.csv')\n"
     ]
    }
   ],
   "source": [
    "featset1 = pd.read_csv('featset1_data.csv')\n",
    "featset1 = featset1.drop(labels=0, axis=0)"
   ]
  },
  {
   "cell_type": "code",
   "execution_count": 264,
   "id": "df715fb0",
   "metadata": {},
   "outputs": [],
   "source": [
    "tempset = featset1[['encoded_sku_id','seq_week','daily_units']]\n",
    "tempset = tempset.rename(columns={\"daily_units\": \"weekly_units\"})"
   ]
  },
  {
   "cell_type": "code",
   "execution_count": 265,
   "id": "d27f21f8",
   "metadata": {
    "scrolled": true
   },
   "outputs": [],
   "source": [
    "#Transformation of daily level data\n",
    "featset5 = sd_ext.sort_values(by=['encoded_sku_id','sales_date']).merge(tempset, how='inner', on=['encoded_sku_id','seq_week'])\n",
    "featset5['weekly_units'] = featset5['weekly_units'].astype('float')\n",
    "featset5['daily_proportion'] = featset5['daily_units'] / featset5['weekly_units']\n",
    "featset5['daily_proportion'] = featset5['daily_proportion'].fillna(0)"
   ]
  },
  {
   "cell_type": "code",
   "execution_count": 266,
   "id": "838b42c1",
   "metadata": {
    "scrolled": true
   },
   "outputs": [
    {
     "data": {
      "text/html": [
       "<div>\n",
       "<style scoped>\n",
       "    .dataframe tbody tr th:only-of-type {\n",
       "        vertical-align: middle;\n",
       "    }\n",
       "\n",
       "    .dataframe tbody tr th {\n",
       "        vertical-align: top;\n",
       "    }\n",
       "\n",
       "    .dataframe thead th {\n",
       "        text-align: right;\n",
       "    }\n",
       "</style>\n",
       "<table border=\"1\" class=\"dataframe\">\n",
       "  <thead>\n",
       "    <tr style=\"text-align: right;\">\n",
       "      <th></th>\n",
       "      <th>encoded_sku_id</th>\n",
       "      <th>sales_date</th>\n",
       "      <th>subclass_name</th>\n",
       "      <th>class_name</th>\n",
       "      <th>ml_name</th>\n",
       "      <th>category_name</th>\n",
       "      <th>retail_price</th>\n",
       "      <th>promo_price</th>\n",
       "      <th>competitor_price</th>\n",
       "      <th>inventory</th>\n",
       "      <th>daily_units</th>\n",
       "      <th>promo_price_avbl</th>\n",
       "      <th>competitor_price_avbl</th>\n",
       "      <th>month</th>\n",
       "      <th>week</th>\n",
       "      <th>day</th>\n",
       "      <th>seq_week</th>\n",
       "      <th>year</th>\n",
       "      <th>day_of_week</th>\n",
       "      <th>mean_weekly_units</th>\n",
       "      <th>csi</th>\n",
       "      <th>inflation_rate</th>\n",
       "      <th>Median Home Price (NSA)</th>\n",
       "      <th>CPI-Adjusted Price</th>\n",
       "      <th>weekly_cat_sales</th>\n",
       "      <th>weekly_class_sales</th>\n",
       "      <th>weekly_ml_sales</th>\n",
       "      <th>weekly_subclass_sales</th>\n",
       "      <th>weekly_units</th>\n",
       "      <th>daily_proportion</th>\n",
       "    </tr>\n",
       "  </thead>\n",
       "  <tbody>\n",
       "  </tbody>\n",
       "</table>\n",
       "</div>"
      ],
      "text/plain": [
       "Empty DataFrame\n",
       "Columns: [encoded_sku_id, sales_date, subclass_name, class_name, ml_name, category_name, retail_price, promo_price, competitor_price, inventory, daily_units, promo_price_avbl, competitor_price_avbl, month, week, day, seq_week, year, day_of_week, mean_weekly_units, csi, inflation_rate, Median Home Price (NSA), CPI-Adjusted Price, weekly_cat_sales, weekly_class_sales, weekly_ml_sales, weekly_subclass_sales, weekly_units, daily_proportion]\n",
       "Index: []"
      ]
     },
     "execution_count": 266,
     "metadata": {},
     "output_type": "execute_result"
    }
   ],
   "source": [
    "#Quality Check\n",
    "\"\"\"\n",
    "Number of output rows should be 0\n",
    "\"\"\"\n",
    "featset5[featset5['daily_proportion'] >1 ]"
   ]
  },
  {
   "cell_type": "code",
   "execution_count": 267,
   "id": "34c89c8c",
   "metadata": {},
   "outputs": [],
   "source": [
    "#One hot encoding of categorical variables\n",
    "featset5 = featset5.drop('subclass_name',axis = 1)\n",
    "featset5 = featset5.drop('day',axis = 1)\n",
    "featset5 = featset5.drop('sales_date',axis = 1)\n",
    "\n",
    "one_hot = pd.get_dummies(featset5['class_name'])\n",
    "# Drop column B as it is now encoded\n",
    "featset5 = featset5.drop('class_name',axis = 1)\n",
    "# Join the encoded df\n",
    "featset5 = featset5.join(one_hot)\n",
    "\n",
    "one_hot = pd.get_dummies(featset5['ml_name'])\n",
    "# Drop column B as it is now encoded\n",
    "featset5 = featset5.drop('ml_name',axis = 1)\n",
    "# Join the encoded df\n",
    "featset5 = featset5.join(one_hot)\n",
    "\n",
    "one_hot = pd.get_dummies(featset5['category_name'])\n",
    "# Drop column B as it is now encoded\n",
    "featset5 = featset5.drop('category_name',axis = 1)\n",
    "# Join the encoded df\n",
    "featset5 = featset5.join(one_hot)\n",
    "\n",
    "one_hot = pd.get_dummies(featset5['inventory'])\n",
    "# Drop column B as it is now encoded\n",
    "featset5 = featset5.drop('inventory',axis = 1)\n",
    "# Join the encoded df\n",
    "featset5 = featset5.join(one_hot)"
   ]
  },
  {
   "cell_type": "code",
   "execution_count": null,
   "id": "8da4ca95",
   "metadata": {},
   "outputs": [],
   "source": [
    "featset5 = featset5.drop(columns = ['daily_units'])"
   ]
  },
  {
   "cell_type": "code",
   "execution_count": 268,
   "id": "bbc104b0",
   "metadata": {},
   "outputs": [],
   "source": [
    "## Setting Search Space\n",
    "eval_week = 271\n",
    "lr_list = [0.01, 0.0125]\n",
    "est_list = [800,900,1000]\n"
   ]
  },
  {
   "cell_type": "code",
   "execution_count": null,
   "id": "d90992b1",
   "metadata": {
    "scrolled": true
   },
   "outputs": [],
   "source": [
    "# Grid Search Iterations to find best model for day of week proportion prediction\n",
    "run_time = []\n",
    "rmse_list = []\n",
    "pred_list= []\n",
    "t0 = time.time()\n",
    "for lr in lr_list:\n",
    "    print(\"Starting model fit for lr =%.4f\" %lr)\n",
    "    for est in est_list:\n",
    "        print(\"Starting model fit for Estimator =%d\" %est)\n",
    "        t1= time.time()\n",
    "        train_prop = featset5[featset5['seq_week'] < eval_week]\n",
    "        val_prop = featset5[featset5['seq_week'] == eval_week]\n",
    "\n",
    "        xtr_prop, xts_prop = train_prop.drop(['daily_proportion'], axis=1), val_prop.drop(['daily_proportion'], axis=1)\n",
    "        ytr_prop, yts_prop = train_prop['daily_proportion'].values, val_prop['daily_proportion'].values\n",
    "\n",
    "        mdl = LGBMRegressor(n_estimators=est, learning_rate=lr, random_state =0)\n",
    "        mdl.fit(xtr_prop, ytr_prop)\n",
    "\n",
    "        y_pred_prop = mdl.predict(xts_prop)\n",
    "\n",
    "        rmse_error = rmse(yts_prop, y_pred_prop)\n",
    "        t2 = round((time.time()-t1)/60,2)\n",
    "        print('LR = %.4f and Estimator = %d iteration completed in %.2f mins with RMSE: %.5f' % (lr,est,t2,rmse_error))\n",
    "        run_time.append(t2)\n",
    "        rmse_list.append(rmse_error)\n",
    "        pred_list.append(y_pred_prop)\n",
    "\n",
    "print(\"Model Selection completed in\",round((time.time()-t0)/60,2),\"mins\")\n",
    "\n",
    "lgbm_prop_results = pd.DataFrame(columns=['learning_rate','n_estimators','run_time','rmse','weekly_predictions'])             \n",
    "lgbm_prop_results['learning_rate'] = np.repeat(lr_list,len(est_list))\n",
    "lgbm_prop_results['n_estimators'] = est_list*len(lr_list)\n",
    "lgbm_prop_results['run_time'] = run_time\n",
    "lgbm_prop_results['rmse'] = rmse_list\n",
    "lgbm_prop_results['weekly_predictions'] = pred_list\n",
    "\n",
    "lgbm_prop_results"
   ]
  },
  {
   "cell_type": "code",
   "execution_count": null,
   "id": "be288e23",
   "metadata": {},
   "outputs": [],
   "source": [
    "best = lgbm_prop_results.sort_values(by=['rmse'], ascending=True)\n",
    "best.iloc[0]"
   ]
  },
  {
   "cell_type": "code",
   "execution_count": 271,
   "id": "5ae2fadb",
   "metadata": {},
   "outputs": [
    {
     "name": "stdout",
     "output_type": "stream",
     "text": [
      "Time taken 2.17 min\n"
     ]
    }
   ],
   "source": [
    "## Creating Weekly proportion Prediction Best Model File\n",
    "\"\"\"\n",
    "enter the parameter value from best\n",
    "\"\"\"\n",
    "eval_week =271\n",
    "lr = 0.0125\n",
    "est = 1000\n",
    "\n",
    "train_prop = featset5[featset5['seq_week'] < eval_week]\n",
    "val_prop = featset5[featset5['seq_week'] == eval_week]\n",
    "t1= time.time()\n",
    "xtr_prop, xts_prop = train_prop.drop(['daily_proportion'], axis=1), val_prop.drop(['daily_proportion'], axis=1)\n",
    "ytr_prop, yts_prop = train_prop['daily_proportion'].values, val_prop['daily_proportion'].values\n",
    "\n",
    "pp_best_mdl = LGBMRegressor(n_estimators=est, learning_rate=lr, random_state =0)\n",
    "pp_best_mdl.fit(xtr_prop, ytr_prop)\n",
    "print(\"Time taken %.2f min\" % ((time.time()-t1)/60))\n",
    "\n",
    "pickle.dump(pp_best_mdl, open('pp_champion_model.pkl', 'wb'))\n"
   ]
  },
  {
   "cell_type": "code",
   "execution_count": null,
   "id": "b31a9d4d",
   "metadata": {},
   "outputs": [],
   "source": [
    "# Proportion Prediction and Evaluation\n",
    "pp_best_mdl = pickle.load(open('pp_champion_model.pkl', 'rb'))\n",
    "\n",
    "y_pred_prop_champ = pp_best_mdl.predict(xts_prop)\n",
    "\n",
    "error = rmse(yts_prop, y_pred_prop_champ)\n",
    "print('Error: %.5f' % (error))"
   ]
  },
  {
   "cell_type": "markdown",
   "id": "9e6e8afc",
   "metadata": {},
   "source": [
    "##### Daily Units Prediction and scoring"
   ]
  },
  {
   "cell_type": "code",
   "execution_count": null,
   "id": "7b4c65b9",
   "metadata": {
    "scrolled": true
   },
   "outputs": [],
   "source": [
    "testset['percent_sales_m3'] =y_pred_prop_champ\n",
    "\n",
    "testset['daily_prediction_m3'] = testset['percent_sales_m3']*testset['weekly_prediction_champion']\n",
    "\n",
    "\n",
    "# RMSE Calculation\n",
    "a = np.array(testset['daily_prediction_m3'])\n",
    "b = np.array(testset['daily_units'])\n",
    "\n",
    "rmse(b, a)"
   ]
  },
  {
   "cell_type": "code",
   "execution_count": null,
   "id": "a6fa4334",
   "metadata": {
    "scrolled": true
   },
   "outputs": [],
   "source": [
    "sum_check = testset.groupby('encoded_sku_id')['percent_sales_m3'].sum()\n",
    "sum_check = sum_check.reset_index()\n",
    "sum_check"
   ]
  },
  {
   "cell_type": "code",
   "execution_count": null,
   "id": "4cf586bd",
   "metadata": {},
   "outputs": [],
   "source": [
    "## Quality Check\n",
    "sum_check[sum_check['percent_sales_m3']>1.05]"
   ]
  },
  {
   "cell_type": "code",
   "execution_count": null,
   "id": "63720dad",
   "metadata": {},
   "outputs": [],
   "source": [
    "## QC check\n",
    "sum_check[sum_check['percent_sales_m3']<0.95]"
   ]
  },
  {
   "cell_type": "code",
   "execution_count": 279,
   "id": "5ea32389",
   "metadata": {},
   "outputs": [],
   "source": [
    "testset.to_csv('validation_results.csv')"
   ]
  }
 ],
 "metadata": {
  "accelerator": "GPU",
  "colab": {
   "provenance": []
  },
  "gpuClass": "standard",
  "kernelspec": {
   "display_name": "Python 3 (ipykernel)",
   "language": "python",
   "name": "python3"
  },
  "language_info": {
   "codemirror_mode": {
    "name": "ipython",
    "version": 3
   },
   "file_extension": ".py",
   "mimetype": "text/x-python",
   "name": "python",
   "nbconvert_exporter": "python",
   "pygments_lexer": "ipython3",
   "version": "3.9.12"
  }
 },
 "nbformat": 4,
 "nbformat_minor": 5
}
